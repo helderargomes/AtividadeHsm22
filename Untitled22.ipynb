{
  "nbformat": 4,
  "nbformat_minor": 0,
  "metadata": {
    "colab": {
      "provenance": [],
      "collapsed_sections": []
    },
    "kernelspec": {
      "name": "python3",
      "display_name": "Python 3"
    },
    "language_info": {
      "name": "python"
    }
  },
  "cells": [
    {
      "cell_type": "code",
      "execution_count": 1,
      "metadata": {
        "id": "RgJf8u1o16IS"
      },
      "outputs": [],
      "source": [
        "# Importando as bibliotecas\n",
        "import pandas as pd\n",
        "from sklearn.naive_bayes import GaussianNB\n",
        "from sklearn.metrics import classification_report\n",
        "from sklearn.model_selection import train_test_split"
      ]
    },
    {
      "cell_type": "code",
      "source": [
        "# Carregando a database\n",
        "db = pd.read_csv(\"base_dados_clientes.csv\")"
      ],
      "metadata": {
        "id": "dI7HEm4t2aOJ"
      },
      "execution_count": 2,
      "outputs": []
    },
    {
      "cell_type": "code",
      "source": [
        "# Conferindo as primeiras linhas da base de dados\n",
        "db.head() "
      ],
      "metadata": {
        "id": "ihb4x83Q2i3s"
      },
      "execution_count": null,
      "outputs": []
    },
    {
      "cell_type": "code",
      "source": [
        "# Separando os rótulos da base de dados\n",
        "x = db.iloc[:, 0:len(db.columns)-1]"
      ],
      "metadata": {
        "id": "Nq6cRqsz2p3U"
      },
      "execution_count": 4,
      "outputs": []
    },
    {
      "cell_type": "code",
      "source": [
        "# Checando\n",
        "x.head()"
      ],
      "metadata": {
        "id": "JNGaEXIH29CI"
      },
      "execution_count": null,
      "outputs": []
    },
    {
      "cell_type": "code",
      "source": [
        "# Transferindo a coluna de rótulos para outro arquivo\n",
        "y = db['rotulo']"
      ],
      "metadata": {
        "id": "HGooRfn83BjU"
      },
      "execution_count": 8,
      "outputs": []
    },
    {
      "cell_type": "code",
      "source": [
        "# Checando\n",
        "y.tail()"
      ],
      "metadata": {
        "id": "Wl88EOUr3PvH"
      },
      "execution_count": null,
      "outputs": []
    },
    {
      "cell_type": "code",
      "source": [
        "# Separando os conjuntos de teste e treinamento\n",
        "x_train, x_test, y_train, y_test = train_test_split(x,y, test_size=0.25, random_state=42)"
      ],
      "metadata": {
        "id": "RA85uDc43bKD"
      },
      "execution_count": 11,
      "outputs": []
    },
    {
      "cell_type": "code",
      "source": [
        "# Instanciando o objeto do algoritmo Naive Bayes\n",
        "classificador = GaussianNB()"
      ],
      "metadata": {
        "id": "aLajvRGl3qVF"
      },
      "execution_count": 12,
      "outputs": []
    },
    {
      "cell_type": "code",
      "source": [
        "# Realizando o treinamento do algoritmo\n",
        "classificador.fit(x_train, y_train)"
      ],
      "metadata": {
        "id": "GxKWYgcW3x_P"
      },
      "execution_count": null,
      "outputs": []
    },
    {
      "cell_type": "code",
      "source": [
        "# Realizando o teste do algoritmo\n",
        "y_pred = classificador.predict(x_test)"
      ],
      "metadata": {
        "id": "23iknwad4BFY"
      },
      "execution_count": 14,
      "outputs": []
    },
    {
      "cell_type": "code",
      "source": [
        "# Verificando o report de desempenho do algoritmo\n",
        "print(classification_report(y_test, y_pred, target_names=['mau pagador','bom pagador']))"
      ],
      "metadata": {
        "id": "tZ8ZOrGd4M5Z"
      },
      "execution_count": null,
      "outputs": []
    }
  ]
}